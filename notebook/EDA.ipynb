{
 "cells": [
  {
   "cell_type": "code",
   "execution_count": null,
   "id": "43aeddef-a5de-44ba-aa3e-dad8d1b759e9",
   "metadata": {},
   "outputs": [],
   "source": []
  }
 ],
 "metadata": {
  "kernelspec": {
   "display_name": "",
   "name": ""
  },
  "language_info": {
   "name": ""
  }
 },
 "nbformat": 4,
 "nbformat_minor": 5
}
